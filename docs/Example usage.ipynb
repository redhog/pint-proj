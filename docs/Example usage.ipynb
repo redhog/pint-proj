{
 "cells": [
  {
   "cell_type": "code",
   "execution_count": 1,
   "metadata": {},
   "outputs": [],
   "source": [
    "import pint\n",
    "import pyproj\n",
    "import projnames\n",
    "import geopandas as gpd\n",
    "import pandas as pd\n",
    "import numpy as np\n",
    "import pint_pandas\n",
    "import pint_proj\n",
    "ureg = pint.get_application_registry() #pint.UnitRegistry()"
   ]
  },
  {
   "cell_type": "code",
   "execution_count": 2,
   "metadata": {},
   "outputs": [],
   "source": [
    "p1 = ureg.Quantity(pint_proj.Coord(15, 2), \"epsg_32611\")\n",
    "p2 = ureg.Quantity(pint_proj.Coord(2, 1), \"epsg_32611\")\n",
    "d = p1 - p2"
   ]
  },
  {
   "cell_type": "code",
   "execution_count": 3,
   "metadata": {},
   "outputs": [
    {
     "data": {
      "text/html": [
       "-121.48860949942477;1.8038754962662663e-05 epsg_4326"
      ],
      "text/latex": [
       "$-121.48860949942477;1.8038754962662663\\times 10^{-5}\\ \\mathrm{epsg\\_4326}$"
      ],
      "text/plain": [
       "-121.48860949942477;1.8038754962662663e-05 <Unit('epsg_4326')>"
      ]
     },
     "execution_count": 3,
     "metadata": {},
     "output_type": "execute_result"
    }
   ],
   "source": [
    "p1.to(\"latlon\", \"proj\")"
   ]
  },
  {
   "cell_type": "code",
   "execution_count": 4,
   "metadata": {},
   "outputs": [
    {
     "data": {
      "text/html": [
       "13.038404810405298 meter"
      ],
      "text/latex": [
       "$13.038404810405298\\ \\mathrm{meter}$"
      ],
      "text/plain": [
       "13.038404810405298 <Unit('meter')>"
      ]
     },
     "execution_count": 4,
     "metadata": {},
     "output_type": "execute_result"
    }
   ],
   "source": [
    "d.to(\"m\", \"proj\")"
   ]
  },
  {
   "cell_type": "code",
   "execution_count": 5,
   "metadata": {},
   "outputs": [],
   "source": [
    "p3 = ureg.Quantity(pint_proj.Coord(72, 10), \"latlon\")\n",
    "p4 = ureg.Quantity(pint_proj.Coord(73, 9), \"latlon\")"
   ]
  },
  {
   "cell_type": "code",
   "execution_count": 6,
   "metadata": {},
   "outputs": [
    {
     "data": {
      "text/html": [
       "21871305.328421917 meter"
      ],
      "text/latex": [
       "$21871305.328421917\\ \\mathrm{meter}$"
      ],
      "text/plain": [
       "21871305.328421917 <Unit('meter')>"
      ]
     },
     "execution_count": 6,
     "metadata": {},
     "output_type": "execute_result"
    }
   ],
   "source": [
    "(p4 - p3).to(\"m\", \"proj\")"
   ]
  },
  {
   "cell_type": "code",
   "execution_count": 7,
   "metadata": {},
   "outputs": [],
   "source": [
    "df = pd.DataFrame({\n",
    "     \"p\": pd.Series([p1, p2], dtype=pint_pandas.pint_array.PintType(p1.u))\n",
    "})"
   ]
  },
  {
   "cell_type": "code",
   "execution_count": 8,
   "metadata": {},
   "outputs": [
    {
     "data": {
      "text/html": [
       "<div>\n",
       "<style scoped>\n",
       "    .dataframe tbody tr th:only-of-type {\n",
       "        vertical-align: middle;\n",
       "    }\n",
       "\n",
       "    .dataframe tbody tr th {\n",
       "        vertical-align: top;\n",
       "    }\n",
       "\n",
       "    .dataframe thead th {\n",
       "        text-align: right;\n",
       "    }\n",
       "</style>\n",
       "<table border=\"1\" class=\"dataframe\">\n",
       "  <thead>\n",
       "    <tr style=\"text-align: right;\">\n",
       "      <th></th>\n",
       "      <th>p</th>\n",
       "    </tr>\n",
       "  </thead>\n",
       "  <tbody>\n",
       "    <tr>\n",
       "      <th>0</th>\n",
       "      <td>15;2</td>\n",
       "    </tr>\n",
       "    <tr>\n",
       "      <th>1</th>\n",
       "      <td>2;1</td>\n",
       "    </tr>\n",
       "  </tbody>\n",
       "</table>\n",
       "</div>"
      ],
      "text/plain": [
       "      p\n",
       "0  15;2\n",
       "1   2;1"
      ]
     },
     "execution_count": 8,
     "metadata": {},
     "output_type": "execute_result"
    }
   ],
   "source": [
    "df"
   ]
  },
  {
   "cell_type": "code",
   "execution_count": 9,
   "metadata": {},
   "outputs": [
    {
     "data": {
      "text/html": [
       "-121.48860949942477;1.8038754962662663e-05 epsg_4326"
      ],
      "text/latex": [
       "$-121.48860949942477;1.8038754962662663\\times 10^{-5}\\ \\mathrm{epsg\\_4326}$"
      ],
      "text/plain": [
       "-121.48860949942477;1.8038754962662663e-05 <Unit('epsg_4326')>"
      ]
     },
     "execution_count": 9,
     "metadata": {},
     "output_type": "execute_result"
    }
   ],
   "source": [
    "df.p.loc[0].to(\"latlon\", \"proj\")"
   ]
  },
  {
   "cell_type": "code",
   "execution_count": 10,
   "metadata": {},
   "outputs": [
    {
     "name": "stderr",
     "output_type": "stream",
     "text": [
      "/home/redhog/Projects/Emerald/emerald-interpret-gui/env/lib/python3.9/site-packages/numpy/lib/function_base.py:2360: UnitStrippedWarning: The unit of the quantity is stripped when downcasting to ndarray.\n",
      "  args = [asarray(arg) for arg in args]\n",
      "/home/redhog/Projects/Emerald/emerald-interpret-gui/env/lib/python3.9/site-packages/numpy/lib/function_base.py:2409: UnitStrippedWarning: The unit of the quantity is stripped when downcasting to ndarray.\n",
      "  inputs = [asanyarray(a, dtype=object) for a in args]\n"
     ]
    },
    {
     "data": {
      "text/html": [
       "<table><tbody><tr><th>Magnitude</th><td style='text-align:left;'><pre>[-121.48860949942477;1.8038754962662663e-05<br> -121.48872596639367;9.019376032304302e-06]</pre></td></tr><tr><th>Units</th><td style='text-align:left;'>epsg_4326</td></tr></tbody></table>"
      ],
      "text/latex": [
       "$\\begin{pmatrix}-121.48860949942477;1.8038754962662663\\times 10^{-5} & -121.48872596639367;9.019376032304302\\times 10^{-6}\\end{pmatrix}\\ \\mathrm{epsg\\_4326}$"
      ],
      "text/plain": [
       "array([-121.48860949942477;1.8038754962662663e-05,\n",
       "       -121.48872596639367;9.019376032304302e-06], dtype=object) <Unit('epsg_4326')>"
      ]
     },
     "execution_count": 10,
     "metadata": {},
     "output_type": "execute_result"
    }
   ],
   "source": [
    "ureg.Quantity(df.p.values._data, df.p.dtype.units).to(\"latlon\", \"proj\")"
   ]
  },
  {
   "cell_type": "code",
   "execution_count": null,
   "metadata": {},
   "outputs": [],
   "source": []
  },
  {
   "cell_type": "code",
   "execution_count": null,
   "metadata": {},
   "outputs": [],
   "source": []
  }
 ],
 "metadata": {
  "kernelspec": {
   "display_name": "emerald-interpret-gui",
   "language": "python",
   "name": "emerald-interpret-gui"
  },
  "language_info": {
   "codemirror_mode": {
    "name": "ipython",
    "version": 3
   },
   "file_extension": ".py",
   "mimetype": "text/x-python",
   "name": "python",
   "nbconvert_exporter": "python",
   "pygments_lexer": "ipython3",
   "version": "3.9.12"
  }
 },
 "nbformat": 4,
 "nbformat_minor": 5
}
