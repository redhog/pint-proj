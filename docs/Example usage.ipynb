{
 "cells": [
  {
   "cell_type": "code",
   "execution_count": 1,
   "metadata": {},
   "outputs": [],
   "source": [
    "import pint\n",
    "import pyproj\n",
    "import projnames\n",
    "import geopandas as gpd\n",
    "import pandas as pd\n",
    "import numpy as np\n",
    "import pint_pandas\n",
    "import pint_proj\n",
    "ureg = pint.get_application_registry() #pint.UnitRegistry()"
   ]
  },
  {
   "cell_type": "code",
   "execution_count": 2,
   "metadata": {},
   "outputs": [],
   "source": [
    "p1 = ureg.Quantity(pint_proj.Coord(15, 2), \"epsg_32611\")\n",
    "p2 = ureg.Quantity(pint_proj.Coord(2, 1), \"epsg_32611\")\n",
    "d = p1 - p2"
   ]
  },
  {
   "cell_type": "code",
   "execution_count": 3,
   "metadata": {},
   "outputs": [
    {
     "data": {
      "text/html": [
       "-121.48860949942477;1.8038754962662663e-05 epsg_4326"
      ],
      "text/latex": [
       "$-121.48860949942477;1.8038754962662663\\times 10^{-5}\\ \\mathrm{epsg\\_4326}$"
      ],
      "text/plain": [
       "-121.48860949942477;1.8038754962662663e-05 <Unit('epsg_4326')>"
      ]
     },
     "execution_count": 3,
     "metadata": {},
     "output_type": "execute_result"
    }
   ],
   "source": [
    "p1.to(\"latlon\", \"proj\")"
   ]
  },
  {
   "cell_type": "code",
   "execution_count": 4,
   "metadata": {},
   "outputs": [
    {
     "data": {
      "text/html": [
       "13.038404810405298 meter"
      ],
      "text/latex": [
       "$13.038404810405298\\ \\mathrm{meter}$"
      ],
      "text/plain": [
       "13.038404810405298 <Unit('meter')>"
      ]
     },
     "execution_count": 4,
     "metadata": {},
     "output_type": "execute_result"
    }
   ],
   "source": [
    "d.to(\"m\", \"proj\")"
   ]
  },
  {
   "cell_type": "code",
   "execution_count": 5,
   "metadata": {},
   "outputs": [],
   "source": [
    "p3 = ureg.Quantity(pint_proj.Coord(72, 10), \"latlon\")\n",
    "p4 = ureg.Quantity(pint_proj.Coord(73, 9), \"latlon\")"
   ]
  },
  {
   "cell_type": "code",
   "execution_count": 6,
   "metadata": {},
   "outputs": [
    {
     "data": {
      "text/html": [
       "20494838.012250714 meter"
      ],
      "text/latex": [
       "$20494838.012250714\\ \\mathrm{meter}$"
      ],
      "text/plain": [
       "20494838.012250714 <Unit('meter')>"
      ]
     },
     "execution_count": 6,
     "metadata": {},
     "output_type": "execute_result"
    }
   ],
   "source": [
    "(p4 - p3).to(\"m\", \"proj\")"
   ]
  },
  {
   "cell_type": "code",
   "execution_count": 13,
   "metadata": {},
   "outputs": [],
   "source": [
    "df = pd.DataFrame({\n",
    "     \"p\": pd.Series([p1, p2], dtype=pint_pandas.pint_array.PintType(p1.u))\n",
    "})"
   ]
  },
  {
   "cell_type": "code",
   "execution_count": 12,
   "metadata": {},
   "outputs": [
    {
     "data": {
      "text/plain": [
       "0    15;2\n",
       "1     2;1\n",
       "Name: p, dtype: pint[epsg_32611]"
      ]
     },
     "execution_count": 12,
     "metadata": {},
     "output_type": "execute_result"
    }
   ],
   "source": [
    "df.p"
   ]
  },
  {
   "cell_type": "code",
   "execution_count": 19,
   "metadata": {},
   "outputs": [
    {
     "name": "stderr",
     "output_type": "stream",
     "text": [
      "/home/redhog/Projects/Emerald/emerald-interpret-gui/env/lib/python3.9/site-packages/numpy/lib/function_base.py:2360: UnitStrippedWarning: The unit of the quantity is stripped when downcasting to ndarray.\n",
      "  args = [asarray(arg) for arg in args]\n",
      "/home/redhog/Projects/Emerald/emerald-interpret-gui/env/lib/python3.9/site-packages/numpy/lib/function_base.py:2409: UnitStrippedWarning: The unit of the quantity is stripped when downcasting to ndarray.\n",
      "  inputs = [asanyarray(a, dtype=object) for a in args]\n"
     ]
    },
    {
     "data": {
      "text/plain": [
       "0    -121.48860949942477;1.8038754962662663e-05\n",
       "1     -121.48872596639367;9.019376032304302e-06\n",
       "Name: p, dtype: pint[epsg_4326]"
      ]
     },
     "execution_count": 19,
     "metadata": {},
     "output_type": "execute_result"
    }
   ],
   "source": [
    "df.p.pint.to(\"latlon\", \"proj\")"
   ]
  },
  {
   "cell_type": "code",
   "execution_count": 20,
   "metadata": {},
   "outputs": [
    {
     "data": {
      "text/plain": [
       "0    POINT (15.000 2.000)\n",
       "1     POINT (2.000 1.000)\n",
       "dtype: geometry"
      ]
     },
     "execution_count": 20,
     "metadata": {},
     "output_type": "execute_result"
    }
   ],
   "source": [
    "df.p.proj.to_geoseries()"
   ]
  },
  {
   "cell_type": "code",
   "execution_count": 21,
   "metadata": {},
   "outputs": [
    {
     "data": {
      "text/plain": [
       "0    15.0;2.0\n",
       "1     2.0;1.0\n",
       "dtype: pint[epsg_32611]"
      ]
     },
     "execution_count": 21,
     "metadata": {},
     "output_type": "execute_result"
    }
   ],
   "source": [
    "df.p.proj.to_geoseries().proj.from_geoseries()"
   ]
  },
  {
   "cell_type": "code",
   "execution_count": 23,
   "metadata": {},
   "outputs": [
    {
     "data": {
      "text/plain": [
       "0    POINT (-121.48861 0.00002)\n",
       "1    POINT (-121.48873 0.00001)\n",
       "dtype: geometry"
      ]
     },
     "execution_count": 23,
     "metadata": {},
     "output_type": "execute_result"
    }
   ],
   "source": [
    "df.p.pint.to(\"latlon\", \"proj\").proj.to_geoseries()"
   ]
  },
  {
   "cell_type": "code",
   "execution_count": null,
   "metadata": {},
   "outputs": [],
   "source": []
  }
 ],
 "metadata": {
  "kernelspec": {
   "display_name": "emerald-interpret-gui",
   "language": "python",
   "name": "emerald-interpret-gui"
  },
  "language_info": {
   "codemirror_mode": {
    "name": "ipython",
    "version": 3
   },
   "file_extension": ".py",
   "mimetype": "text/x-python",
   "name": "python",
   "nbconvert_exporter": "python",
   "pygments_lexer": "ipython3",
   "version": "3.9.12"
  }
 },
 "nbformat": 4,
 "nbformat_minor": 5
}
